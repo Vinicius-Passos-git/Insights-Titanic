{
 "cells": [
  {
   "cell_type": "markdown",
   "metadata": {},
   "source": [
    "# Análise do conjunto de dados Titanic"
   ]
  },
  {
   "cell_type": "markdown",
   "metadata": {},
   "source": [
    "### Algumas perguntas que podem ser feitas após ter o contexo do problema no site kaggle: https://www.kaggle.com/c/titanic\n",
    "- Qual classe de passageiro possui maior quantidade de sobreviventes?\n",
    "- Qual é a distribuição de sobreviventes, referente ao gênero, entre as várias classes?\n",
    "- Qual a distribuição dos não sobreviventes, entre as classes, que possuem parentes no navio?\n",
    "- Qual foi o porcentual de sobrevivência entre diferentes faixas etárias?"
   ]
  },
  {
   "cell_type": "code",
   "execution_count": 16,
   "metadata": {},
   "outputs": [],
   "source": [
    "#Bibliotecas que vamos utilizar para a análise dos dados\n",
    "import pandas as pd\n",
    "import numpy as np\n",
    "import pylab as plt"
   ]
  },
  {
   "cell_type": "code",
   "execution_count": 10,
   "metadata": {},
   "outputs": [],
   "source": [
    "df = pd.read_csv(\"train.csv\")"
   ]
  },
  {
   "cell_type": "markdown",
   "metadata": {},
   "source": [
    "##### Qual classe de passageiro possui maior quantidade de sobreviventes?"
   ]
  },
  {
   "cell_type": "code",
   "execution_count": 11,
   "metadata": {},
   "outputs": [
    {
     "data": {
      "text/plain": [
       "False    891\n",
       "Name: Pclass, dtype: int64"
      ]
     },
     "execution_count": 11,
     "metadata": {},
     "output_type": "execute_result"
    }
   ],
   "source": [
    "df['Pclass'].isnull().value_counts()"
   ]
  },
  {
   "cell_type": "code",
   "execution_count": 20,
   "metadata": {},
   "outputs": [
    {
     "data": {
      "text/plain": [
       "False    891\n",
       "Name: Survived, dtype: int64"
      ]
     },
     "execution_count": 20,
     "metadata": {},
     "output_type": "execute_result"
    }
   ],
   "source": [
    "df['Survived'].isnull().value_counts()"
   ]
  },
  {
   "cell_type": "code",
   "execution_count": 29,
   "metadata": {},
   "outputs": [
    {
     "data": {
      "text/plain": [
       "Pclass\n",
       "1    136\n",
       "2     87\n",
       "3    119\n",
       "Name: Survived, dtype: int64"
      ]
     },
     "execution_count": 29,
     "metadata": {},
     "output_type": "execute_result"
    }
   ],
   "source": [
    "#Passageiros que sobreviveram em cada classe\n",
    "survivors = df.groupby('Pclass')['Survived'].agg(sum)\n",
    "survivors"
   ]
  },
  {
   "cell_type": "code",
   "execution_count": 30,
   "metadata": {},
   "outputs": [],
   "source": [
    "#Total de passageiros em cada classe\n",
    "total_passengers = df.groupby('Pclass')['PassengerId'].count()\n",
    "survivor_percentage = survivors / total_passengers"
   ]
  },
  {
   "cell_type": "code",
   "execution_count": 31,
   "metadata": {},
   "outputs": [
    {
     "data": {
      "image/png": "[encoded data removed]",
      "text/plain": [
       "<Figure size 432x288 with 1 Axes>"
      ]
     },
     "metadata": {
      "needs_background": "light"
     },
     "output_type": "display_data"
    }
   ],
   "source": [
    "#Plotting the Total number of survivors\n",
    "fig = plt.figure()\n",
    "ax = fig.add_subplot(111)\n",
    "rect = ax.bar(survivors.index.values.tolist(), survivors, color='blue', width=0.5)\n",
    "ax.set_ylabel('No. of survivors')\n",
    "ax.set_title('Total number of survivors based on class')\n",
    "xTickMarks = survivors.index.values.tolist()\n",
    "ax.set_xticks(survivors.index.values.tolist())\n",
    "xtickNames = ax.set_xticklabels(xTickMarks)\n",
    "plt.setp(xtickNames, fontsize=20)\n",
    "plt.show()"
   ]
  },
  {
   "cell_type": "code",
   "execution_count": 32,
   "metadata": {},
   "outputs": [
    {
     "data": {
      "image/png": "[encoded data removed]",
      "text/plain": [
       "<Figure size 432x288 with 1 Axes>"
      ]
     },
     "metadata": {
      "needs_background": "light"
     },
     "output_type": "display_data"
    }
   ],
   "source": [
    "#Plotting the percentage of survivors in each class\n",
    "fig = plt.figure()\n",
    "ax = fig.add_subplot(111)\n",
    "rect = ax.bar(survivor_percentage.index.values.tolist(), survivor_percentage, color='blue', width=0.5)\n",
    "ax.set_ylabel('Survivor Percentage')\n",
    "ax.set_title('Percentage of survivors based on class')\n",
    "xTickMarks = survivors.index.values.tolist()\n",
    "ax.set_xticks(survivors.index.values.tolist())\n",
    "xtickNames = ax.set_xticklabels(xTickMarks)\n",
    "plt.setp(xtickNames, fontsize=20)\n",
    "plt.show()"
   ]
  },
  {
   "cell_type": "markdown",
   "metadata": {},
   "source": [
    "# Conclusões\n",
    "• O número máximo de sobreviventes está na primeira e terceira classe, respectivamente\n",
    "\n",
    "• Com relação ao número total de passageiros em cada classe, a primeira classe tem aproximadamente 60% de sobreviventes\n",
    "\n",
    "• Com relação ao número total de passageiros em cada classe, a terceira classe tem\n",
    "o número mínimo de sobreviventes em torno de 25%\n",
    "\n",
    "# Observação:\n",
    "\n",
    "• Havia uma preferência em salvar os passageiros das primeira classe "
   ]
  },
  {
   "cell_type": "markdown",
   "metadata": {},
   "source": [
    "### Qual é a distribuição de sobreviventes, referente ao gênero, entre as várias classes?"
   ]
  },
  {
   "cell_type": "code",
   "execution_count": 34,
   "metadata": {},
   "outputs": [
    {
     "data": {
      "text/plain": [
       "False    891\n",
       "Name: Sex, dtype: int64"
      ]
     },
     "execution_count": 34,
     "metadata": {},
     "output_type": "execute_result"
    }
   ],
   "source": [
    "# Checking for any null values\n",
    "df['Sex'].isnull().value_counts()"
   ]
  },
  {
   "cell_type": "code",
   "execution_count": 35,
   "metadata": {},
   "outputs": [],
   "source": [
    "# Male Passengers survived in each class\n",
    "male_survivors = df[df['Sex'] == 'male'].groupby('Pclass')['Survived'].agg(sum)"
   ]
  },
  {
   "cell_type": "code",
   "execution_count": 36,
   "metadata": {},
   "outputs": [],
   "source": [
    "# Total Male Passengers in each class\n",
    "male_total_passengers = df[df['Sex'] == 'male'].groupby('Pclass')['PassengerId'].count()\n",
    "male_survivor_percentage = male_survivors / male_total_passengers"
   ]
  },
  {
   "cell_type": "code",
   "execution_count": 37,
   "metadata": {},
   "outputs": [],
   "source": [
    "# Female Passengers survived in each class\n",
    "female_survivors = df[df['Sex'] == 'female'].groupby('Pclass')['Survived'].agg(sum)"
   ]
  },
  {
   "cell_type": "code",
   "execution_count": 38,
   "metadata": {},
   "outputs": [],
   "source": [
    "# Total Female Passengers in each class\n",
    "female_total_passengers = df[df['Sex'] == 'female'].groupby('Pclass')['PassengerId'].count()\n",
    "female_survivor_percentage = female_survivors / female_total_passengers"
   ]
  },
  {
   "cell_type": "code",
   "execution_count": 40,
   "metadata": {},
   "outputs": [
    {
     "data": {
      "image/png": "[encoded data removed]",
      "text/plain": [
       "<Figure size 432x288 with 1 Axes>"
      ]
     },
     "metadata": {
      "needs_background": "light"
     },
     "output_type": "display_data"
    }
   ],
   "source": [
    "# Plotting the total passengers who survived based on Gender\n",
    "fig = plt.figure()\n",
    "ax = fig.add_subplot(111)\n",
    "index = np.arange(male_survivors.count())\n",
    "bar_width = 0.35\n",
    "rect1 = ax.bar(index, male_survivors, bar_width, color='blue', label='Men')\n",
    "rect2 = ax.bar(index + bar_width, female_survivors, bar_width, color='red', label='Women')\n",
    "ax.set_ylabel('Survivor Numbers')\n",
    "ax.set_title('Male and Female survivors based on class')\n",
    "xTickMarks = male_survivors.index.values.tolist()\n",
    "ax.set_xticks(index + bar_width)\n",
    "xtickNames = ax.set_xticklabels(xTickMarks)\n",
    "plt.setp(xtickNames, fontsize=20)\n",
    "plt.legend()\n",
    "plt.tight_layout()\n",
    "plt.show()"
   ]
  },
  {
   "cell_type": "code",
   "execution_count": 43,
   "metadata": {},
   "outputs": [
    {
     "data": {
      "image/png": "[encoded data removed]",
      "text/plain": [
       "<Figure size 432x288 with 1 Axes>"
      ]
     },
     "metadata": {
      "needs_background": "light"
     },
     "output_type": "display_data"
    }
   ],
   "source": [
    "# Plotting the percentage of passengers who survived based on Gender\n",
    "fig = plt.figure()\n",
    "ax = fig.add_subplot(111)\n",
    "index = np.arange(male_survivor_percentage.count())\n",
    "bar_width = 0.35\n",
    "rect1 = ax.bar(index, male_survivor_percentage, bar_width, color='blue', label='Men')\n",
    "rect2 = ax.bar(index + bar_width, female_survivor_percentage, bar_width, color='red', label='Women')\n",
    "ax.set_ylabel('Survivor Percentage')\n",
    "ax.set_title('Percentage Male and Female of survivors based on class')\n",
    "xTickMarks = male_survivor_percentage.index.values.tolist()\n",
    "ax.set_xticks(index + bar_width)\n",
    "xtickNames = ax.set_xticklabels(xTickMarks)\n",
    "plt.setp(xtickNames, fontsize=20)\n",
    "plt.legend()\n",
    "plt.tight_layout()\n",
    "plt.show()"
   ]
  },
  {
   "cell_type": "markdown",
   "metadata": {},
   "source": [
    "# Conclusões\n",
    "• A maioria dos sobreviventes são do sexo feminino, independente da classe\n",
    "\n",
    "• Mais de 90% dos passageiros do sexo feminino que estavam na primeira e na segunda classe sobreviveram\n",
    "\n",
    "• O percentual de passageiros do sexo masculino que sobreviveram nas classes 2 e 3 são proximos\n",
    "\n",
    "# Observação:\n",
    "\n",
    "• Passageiros do sexo feminino tiveram preferência para que suas vidas fossem salvas"
   ]
  },
  {
   "cell_type": "markdown",
   "metadata": {},
   "source": [
    "### Qual a distribuição dos não sobreviventes, entre as classes, que possuem parentes no navio?"
   ]
  },
  {
   "cell_type": "code",
   "execution_count": 45,
   "metadata": {},
   "outputs": [
    {
     "data": {
      "text/plain": [
       "False    891\n",
       "Name: SibSp, dtype: int64"
      ]
     },
     "execution_count": 45,
     "metadata": {},
     "output_type": "execute_result"
    }
   ],
   "source": [
    "# Checking for the null values\n",
    "df['SibSp'].isnull().value_counts()"
   ]
  },
  {
   "cell_type": "code",
   "execution_count": 46,
   "metadata": {},
   "outputs": [
    {
     "data": {
      "text/plain": [
       "False    891\n",
       "Name: Parch, dtype: int64"
      ]
     },
     "execution_count": 46,
     "metadata": {},
     "output_type": "execute_result"
    }
   ],
   "source": [
    "# Checking for the null values\n",
    "df['Parch'].isnull().value_counts()"
   ]
  },
  {
   "cell_type": "code",
   "execution_count": 47,
   "metadata": {},
   "outputs": [],
   "source": [
    "# Total number of non-survivors in each class\n",
    "non_survivors = df[(df['SibSp'] > 0) | (df['Parch'] > 0) & (df['Survived'] == 0)].groupby('Pclass')['Survived'].agg('count')"
   ]
  },
  {
   "cell_type": "code",
   "execution_count": 48,
   "metadata": {},
   "outputs": [],
   "source": [
    "#Total passengers in each class\n",
    "total_passengers = df.groupby('Pclass')['PassengerId'].count()\n",
    "non_survivor_percentage = non_survivors / total_passengers"
   ]
  },
  {
   "cell_type": "code",
   "execution_count": 49,
   "metadata": {},
   "outputs": [
    {
     "data": {
      "image/png": "[encoded data removed]",
      "text/plain": [
       "<Figure size 432x288 with 1 Axes>"
      ]
     },
     "metadata": {
      "needs_background": "light"
     },
     "output_type": "display_data"
    }
   ],
   "source": [
    "#Total number of non survivors with family based on class\n",
    "fig = plt.figure()\n",
    "ax = fig.add_subplot(111)\n",
    "rect = ax.bar(non_survivors.index.values.tolist(), non_survivors, color='blue', width=0.5)\n",
    "ax.set_ylabel('No. of non survivors')\n",
    "ax.set_title('Total number of non survivors with family based on class')\n",
    "xTickMarks = non_survivors.index.values.tolist()\n",
    "ax.set_xticks(non_survivors.index.values.tolist())\n",
    "xtickNames = ax.set_xticklabels(xTickMarks)\n",
    "plt.setp(xtickNames, fontsize=20)\n",
    "plt.show()"
   ]
  },
  {
   "cell_type": "code",
   "execution_count": 50,
   "metadata": {},
   "outputs": [
    {
     "data": {
      "image/png": "[encoded data removed]",
      "text/plain": [
       "<Figure size 432x288 with 1 Axes>"
      ]
     },
     "metadata": {
      "needs_background": "light"
     },
     "output_type": "display_data"
    }
   ],
   "source": [
    "#Plot of percentage of non survivors with family based on class\n",
    "fig = plt.figure()\n",
    "ax = fig.add_subplot(111)\n",
    "rect = ax.bar(non_survivor_percentage.index.values.tolist(), non_survivor_percentage, color='blue', width=0.5)\n",
    "ax.set_ylabel('Non Survivor Percentage')\n",
    "ax.set_title('Percentage of non survivors with family based on class')\n",
    "xTickMarks = non_survivor_percentage.index.values.tolist()\n",
    "ax.set_xticks(non_survivor_percentage.index.values.tolist())\n",
    "xtickNames = ax.set_xticklabels(xTickMarks)\n",
    "plt.setp(xtickNames, fontsize=20)\n",
    "plt.show()"
   ]
  },
  {
   "cell_type": "markdown",
   "metadata": {},
   "source": [
    "# Conclusões\n",
    "• Há muitos não-sobreviventes na terceira classe\n",
    "\n",
    "• Segunda classe tem o menor número de não-sobreviventes com parentes\n",
    "\n",
    "• Com relação ao número total de passageiros, a primeira classe, que tinha parentes a bordo, tem a porcentagem máxima não sobreviver e o terceira classe tem o mínimo\n",
    "\n",
    "# Observação:\n",
    "\n",
    "• Mesmo que a terceira classe tenha o maior número de não-sobreviventes com parentes a bordo, ele tinha principalmente passageiros que não tinham parentes no navio, enquanto na primeira classe, a maioria das pessoas tinha parentes a bordo o navio"
   ]
  },
  {
   "cell_type": "markdown",
   "metadata": {},
   "source": [
    "### Qual foi o porcentual de sobrevivência entre diferentes faixas etárias?"
   ]
  },
  {
   "cell_type": "code",
   "execution_count": 52,
   "metadata": {},
   "outputs": [
    {
     "data": {
      "text/plain": [
       "False    714\n",
       "True     177\n",
       "Name: Age, dtype: int64"
      ]
     },
     "execution_count": 52,
     "metadata": {},
     "output_type": "execute_result"
    }
   ],
   "source": [
    "#Checking for null values\n",
    "df['Age'].isnull().value_counts()"
   ]
  },
  {
   "cell_type": "code",
   "execution_count": 53,
   "metadata": {},
   "outputs": [],
   "source": [
    "#Defining the age binning interval\n",
    "age_bin = [0, 18, 25, 40, 60, 100]"
   ]
  },
  {
   "cell_type": "code",
   "execution_count": 54,
   "metadata": {},
   "outputs": [],
   "source": [
    "#Creating the bins\n",
    "df['AgeBin'] = pd.cut(df.Age, bins=age_bin)"
   ]
  },
  {
   "cell_type": "code",
   "execution_count": 55,
   "metadata": {},
   "outputs": [],
   "source": [
    "#Removing the null rows\n",
    "d_temp = df[np.isfinite(df['Age'])] # removing all na instances"
   ]
  },
  {
   "cell_type": "code",
   "execution_count": 56,
   "metadata": {},
   "outputs": [],
   "source": [
    "#Number of survivors based on Age bin\n",
    "survivors = d_temp.groupby('AgeBin')['Survived'].agg(sum)"
   ]
  },
  {
   "cell_type": "code",
   "execution_count": 57,
   "metadata": {},
   "outputs": [],
   "source": [
    "#Total passengers in each bin\n",
    "total_passengers = d_temp.groupby('AgeBin')['Survived'].agg('count')"
   ]
  },
  {
   "cell_type": "code",
   "execution_count": 58,
   "metadata": {},
   "outputs": [
    {
     "data": {
      "image/png": "[encoded data removed]",
      "text/plain": [
       "<Figure size 432x288 with 1 Axes>"
      ]
     },
     "metadata": {},
     "output_type": "display_data"
    }
   ],
   "source": [
    "#Plotting the pie chart of total passengers in each bin\n",
    "plt.pie(total_passengers, labels=total_passengers.index.values.tolist(), autopct='%1.1f%%', shadow=True, startangle=90)\n",
    "plt.title('Total Passengers in different age groups')\n",
    "plt.show()"
   ]
  },
  {
   "cell_type": "code",
   "execution_count": 59,
   "metadata": {},
   "outputs": [
    {
     "data": {
      "image/png": "[encoded data removed]",
      "text/plain": [
       "<Figure size 432x288 with 1 Axes>"
      ]
     },
     "metadata": {},
     "output_type": "display_data"
    }
   ],
   "source": [
    "#Plotting the pie chart of percentage passengers in each bin\n",
    "plt.pie(survivors, labels=survivors.index.values.tolist(), autopct='%1.1f%%', shadow=True, startangle=90)\n",
    "plt.title('Survivors in different age groups')\n",
    "plt.show()"
   ]
  },
  {
   "cell_type": "markdown",
   "metadata": {},
   "source": [
    "# Conclusões\n",
    "• A faixa etária de 25 a 40 anos tem o número máximo de passageiros, e 18 a 25 tem o segundo maior número de passageiros\n",
    "\n",
    "• Entre as pessoas que sobreviveram, a faixa etária de 0 a 18 anos é a segunda maior número de sobreviventes\n",
    "\n",
    "• A faixa etária de 60 a 100 anos tem menor proporção entre os sobreviventes\n",
    "\n",
    "# Observação:\n",
    "\n",
    "• A faixa etária de 25 a 40 anos teve o número máximo de sobreviventes em comparação com qualquer outra faixa etária, e as pessoas que eram velhas \"não tiveram sorte o suficiente\"."
   ]
  },
  {
   "cell_type": "code",
   "execution_count": null,
   "metadata": {},
   "outputs": [],
   "source": []
  }
 ],
 "metadata": {
  "kernelspec": {
   "display_name": "Python 3",
   "language": "python",
   "name": "python3"
  },
  "language_info": {
   "codemirror_mode": {
    "name": "ipython",
    "version": 3
   },
   "file_extension": ".py",
   "mimetype": "text/x-python",
   "name": "python",
   "nbconvert_exporter": "python",
   "pygments_lexer": "ipython3",
   "version": "3.8.5"
  }
 },
 "nbformat": 4,
 "nbformat_minor": 4
}
